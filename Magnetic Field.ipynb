{
 "cells": [
  {
   "cell_type": "code",
   "execution_count": 2,
   "id": "7c3e68fb",
   "metadata": {},
   "outputs": [
    {
     "name": "stdout",
     "output_type": "stream",
     "text": [
      "Enter the x-coordinate of line number 1 :\n",
      "-15\n",
      "Enter the y-coordinate of line number 1 :\n",
      "18\n",
      "Enter the x-coordinate of line number 2 :\n",
      "0\n",
      "Enter the y-coordinate of line number 2 :\n",
      "18\n",
      "Enter the x-coordinate of line number 3 :\n",
      "15\n",
      "Enter the y-coordinate of line number 3 :\n",
      "18\n",
      "Enter the x-coordinate of measuring point : 19.8\n",
      "Enter the y-coordinate of measuring point : 0\n",
      "Enter the rms value of line-to-ground voltage(in kV) :750\n",
      "Enter the Power supplied to the load : 1900\n",
      " RMS value of current in each phase :  1.4626213638944217\n",
      "[0.02345216 0.05027652 0.10373444]\n",
      "[0. 0. 0.]\n",
      "RMS value of Horizontal component of Magnetic field :  0.01647881409892327\n",
      "RMS value of Vertical component of Magnetic field :  0.0\n",
      "RMS value of Total Magnetic field :  0.01647881409892327\n"
     ]
    }
   ],
   "source": [
    "import math\n",
    "import numpy\n",
    "import numpy as np\n",
    "lcs=numpy.empty(shape=(3, 2), dtype=float)\n",
    "\n",
    "for i in range(3):\n",
    "    print(\"Enter the x-coordinate of line number\", i+1, \":\")\n",
    "    lcs[i][0]=float(input())\n",
    "    print(\"Enter the y-coordinate of line number\", i+1, \":\")\n",
    "    lcs[i][1]=float(input())\n",
    "\n",
    "\n",
    "mpcs=numpy.empty(2,dtype=float)\n",
    "\n",
    "mpcs[0]=float(input(\"Enter the x-coordinate of measuring point : \"))\n",
    "mpcs[1]=float(input(\"Enter the y-coordinate of measuring point : \"))\n",
    "\n",
    "V = float(input(\"Enter the rms value of line-to-ground voltage(in kV) :\"))\n",
    "P_l = float(input(\"Enter the Power supplied to the load : \"))\n",
    "Irms = P_l/(1.73205*V)\n",
    "print(\" RMS value of current in each phase : \",Irms)\n",
    "\n",
    "K=numpy.empty(3,dtype=float)\n",
    "J=numpy.empty(3,dtype=float)\n",
    "\n",
    "for i in range(3):\n",
    "    K[i]= float(((mpcs[1]+lcs[i][1])/(((mpcs[0]-lcs[i][0])**2)+((mpcs[1]+lcs[i][1])**2)))-((mpcs[1]-lcs[i][1])/(((mpcs[0]-lcs[i][0])**2)+((mpcs[1]-lcs[i][1])**2))))\n",
    "    J[i]= float(((mpcs[0]-lcs[i][0])/(((mpcs[0]-lcs[i][0])**2)+((mpcs[1]-lcs[i][1])**2)))-((mpcs[0]-lcs[i][0])/(((mpcs[0]-lcs[i][0])**2)+((mpcs[1]+lcs[i][1])**2))))\n",
    "\n",
    "print(K)\n",
    "print(J)\n",
    "\n",
    "Hh_T= float((Irms/(2*math.pi))*(((K[0]*K[0])+(K[1]*K[1])+(K[2]*K[2])-(K[0]*K[1])-(K[1]*K[2])-(K[2]*K[0]))**(1/2)))\n",
    "Hv_T= float((Irms/(2*math.pi))*(((J[0]*J[0])+(J[1]*J[1])+(J[2]*J[2])-(J[0]*J[1])-(J[1]*J[2])-(J[2]*J[0]))**(1/2)))\n",
    "\n",
    "print(\"RMS value of Horizontal component of Magnetic field : \",Hh_T)\n",
    "print(\"RMS value of Vertical component of Magnetic field : \",Hv_T)\n",
    "\n",
    "print(\"RMS value of Total Magnetic field : \",((((Hh_T)**2)+((Hv_T)**2))**(1/2)))"
   ]
  },
  {
   "cell_type": "code",
   "execution_count": null,
   "id": "9a2e3464",
   "metadata": {},
   "outputs": [],
   "source": []
  }
 ],
 "metadata": {
  "kernelspec": {
   "display_name": "Python 3 (ipykernel)",
   "language": "python",
   "name": "python3"
  },
  "language_info": {
   "codemirror_mode": {
    "name": "ipython",
    "version": 3
   },
   "file_extension": ".py",
   "mimetype": "text/x-python",
   "name": "python",
   "nbconvert_exporter": "python",
   "pygments_lexer": "ipython3",
   "version": "3.9.13"
  }
 },
 "nbformat": 4,
 "nbformat_minor": 5
}
