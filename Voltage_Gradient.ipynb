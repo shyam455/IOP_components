{
 "cells": [
  {
   "cell_type": "code",
   "execution_count": 1,
   "id": "128199e4",
   "metadata": {},
   "outputs": [
    {
     "name": "stdout",
     "output_type": "stream",
     "text": [
      "Enter the line voltage(in kV) :735\n",
      "Enter the Number of subconductors in buldle :4\n",
      "Enter the diameter of a subconductor in bundle(in meter) :0.0305\n",
      "Enter the bundle spacing(in meter) :0.4572\n",
      "0.3232892203584895\n",
      "0.2130717518807943\n",
      "Voltage gradient for outer phase lines(1st and 3rd line) : \n",
      "Voltage gradient for middle phase line(2nd line) : \n",
      "1930.0486504304981 volts\n",
      "2056.368224234158 volts\n",
      "1930.0486504304981 volts\n"
     ]
    }
   ],
   "source": [
    "import math\n",
    "import numpy as np\n",
    "lcs=np.array([[-14,20],[0,20],[14,20]])\n",
    "\n",
    "mpcs=np.array([-30,0])\n",
    "\n",
    "V = float(input(\"Enter the line voltage(in kV) :\"))\n",
    "N = int(input(\"Enter the Number of subconductors in buldle :\"))\n",
    "d = float(input(\"Enter the diameter of a subconductor in bundle(in meter) :\"))\n",
    "r = float(d/2)\n",
    "B = float(input(\"Enter the bundle spacing(in meter) :\"))\n",
    "R = float(B/(2*math.sin(math.pi/N)))\n",
    "print(R)\n",
    "S = float(11)\n",
    "Req = float(pow((N*r*pow(R,N-1)),1/N))\n",
    "print(Req)\n",
    "H = float(13)\n",
    "\n",
    "Eo=np.array([0,0,0], dtype=float)\n",
    "\n",
    "C = float((1+5*((H/S)**2)+4*((H/S)**4))**(1/4))\n",
    "F = float((1+((2*H/S)**2))**(1/2))\n",
    "\n",
    "print(\"Voltage gradient for outer phase lines(1st and 3rd line) : \")\n",
    "Eom = float(((R+(N-1)*r)*V)/(N*r*R*1.73205*math.log(2*H/(Req*C))))\n",
    "Eo[0]=Eom\n",
    "Eo[2]=Eom\n",
    "\n",
    "print(\"Voltage gradient for middle phase line(2nd line) : \")\n",
    "Ecm = float(((R+(N-1)*r)*V)/(N*r*R*1.73205*math.log(2*H/(Req*F))))\n",
    "Eo[1]=Ecm\n",
    "\n",
    "for i in range(3):\n",
    "    print(Eo[i], \"volts\")\n",
    "\n",
    "    \n",
    "\n",
    "\n"
   ]
  },
  {
   "cell_type": "code",
   "execution_count": null,
   "id": "258fa423",
   "metadata": {},
   "outputs": [],
   "source": []
  },
  {
   "cell_type": "code",
   "execution_count": null,
   "id": "34d5049e",
   "metadata": {},
   "outputs": [],
   "source": []
  }
 ],
 "metadata": {
  "kernelspec": {
   "display_name": "Python 3 (ipykernel)",
   "language": "python",
   "name": "python3"
  },
  "language_info": {
   "codemirror_mode": {
    "name": "ipython",
    "version": 3
   },
   "file_extension": ".py",
   "mimetype": "text/x-python",
   "name": "python",
   "nbconvert_exporter": "python",
   "pygments_lexer": "ipython3",
   "version": "3.9.13"
  }
 },
 "nbformat": 4,
 "nbformat_minor": 5
}
