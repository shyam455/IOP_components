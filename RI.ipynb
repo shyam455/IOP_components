{
 "cells": [
  {
   "cell_type": "code",
   "execution_count": 3,
   "id": "1c8ea587",
   "metadata": {},
   "outputs": [
    {
     "name": "stdout",
     "output_type": "stream",
     "text": [
      "Enter the line voltage(in kV) :420\n",
      "Enter the Number of subconductors in buldle :2\n",
      "Enter the diameter of a subconductor in bundle(in cm) :3.18\n",
      "Enter the bundle spacing(in meter) :0.4572\n",
      "33.1058907144937\n",
      "43.32435804486894\n",
      "53.85164807134504\n",
      "38.5571157134636\n",
      "38.55182935865918\n",
      "31.584422891578605\n",
      "[31.58442289 38.55182936 38.55711571]\n",
      "RI_Total :  40.05447253606139  dB\n"
     ]
    }
   ],
   "source": [
    "import math\n",
    "import numpy as np\n",
    "lcs=np.array([[-11,14],[0,14],[11,14]])\n",
    "\n",
    "mpcs=np.array([-41,0])\n",
    "\n",
    "V = float(input(\"Enter the line voltage(in kV) :\"))\n",
    "N = int(input(\"Enter the Number of subconductors in buldle :\"))\n",
    "d = float(input(\"Enter the diameter of a subconductor in bundle(in cm) :\"))\n",
    "r = float(d/2)\n",
    "B = float(input(\"Enter the bundle spacing(in meter) :\"))\n",
    "R = float(B/math.sin(math.pi/N))\n",
    "S = float(11)\n",
    "Req = float(pow((N*r*pow(R,N-1)),1/N))\n",
    "H = float(14)\n",
    "\n",
    "#C = float((1+5*((H/S)**2)+4*((H/S)**4))**(1/4))\n",
    "\n",
    "#print(\"Voltage gradient for outer phase lines(1st and 3rd line) : \")\n",
    "#Eom = float(((R+(N-1)*r)*V)/(N*r*R*1.73205*math.log(2*H/(Req*C))))\n",
    "\n",
    "D=np.array([0,0,0], dtype=float)\n",
    "\n",
    "for i in range(3):\n",
    "    D[i]= float((((mpcs[0]-lcs[i][0])**2)+((mpcs[1]-lcs[i][1])**2))**(1/2))\n",
    "\n",
    "for i in range(3):\n",
    "    print(D[i])\n",
    "    \n",
    "\n",
    "Eo=np.array([16.2,17.3,16.2], dtype=float)\n",
    "RI=np.array([0,0,0], dtype=float)\n",
    "\n",
    "\n",
    "for i in range(3):\n",
    "    RI[i]=3.5*Eo[i]+6*d-33*math.log10(D[i]/20)-30\n",
    "\n",
    "for i in range(3):\n",
    "    print(RI[i])\n",
    "    \n",
    "RI.sort()\n",
    "print(RI)\n",
    "    \n",
    "RI_T = float(0)\n",
    "\n",
    "if(RI[2]>=(RI[1]+3)):\n",
    "    RI_T=RI[2]\n",
    "else:\n",
    "    RI_T= ((RI[1]+RI[2])/2)+1.5\n",
    "\n",
    "print(\"RI_Total : \", RI_T, \" dB\")\n",
    "\n",
    "    "
   ]
  },
  {
   "cell_type": "code",
   "execution_count": null,
   "id": "bc4a8629",
   "metadata": {},
   "outputs": [],
   "source": []
  }
 ],
 "metadata": {
  "kernelspec": {
   "display_name": "Python 3 (ipykernel)",
   "language": "python",
   "name": "python3"
  },
  "language_info": {
   "codemirror_mode": {
    "name": "ipython",
    "version": 3
   },
   "file_extension": ".py",
   "mimetype": "text/x-python",
   "name": "python",
   "nbconvert_exporter": "python",
   "pygments_lexer": "ipython3",
   "version": "3.9.13"
  }
 },
 "nbformat": 4,
 "nbformat_minor": 5
}
